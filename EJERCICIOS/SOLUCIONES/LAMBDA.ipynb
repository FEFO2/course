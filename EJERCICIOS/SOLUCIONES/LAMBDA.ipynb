{
 "cells": [
  {
   "cell_type": "markdown",
   "metadata": {},
   "source": [
    "SOLUCIONES:\n",
    "\n",
    "1. suma = lambda x, y: x + y\n",
    "\n",
    "2. multiplicacion = lambda x, y: x * y\n",
    "\n",
    "3. cuadrado = lambda x: x ** 2\n",
    "\n",
    "4. valor_absoluto = lambda x: abs(x)\n",
    "\n",
    "5. es_par = lambda x: x % 2 == 0\n",
    "\n",
    "6. mas_de_5_caracteres = lambda s: len(s) > 5\n",
    "\n",
    "7. suma_lista = lambda lista: sum(lista)\n",
    "\n",
    "8. longitud_palabras = lambda lista: [len(palabra) for palabra in lista]\n",
    "\n",
    "9. numeros_pares = lambda lista: [x for x in lista if x % 2 == 0]\n",
    "\n",
    "10. contiene_a = lambda lista: [palabra for palabra in lista if 'a' in palabra]\n",
    "\n",
    "11. nombres_personas = lambda lista: [persona['nombre'] for persona in lista]\n",
    "\n",
    "12. orden_ascendente = lambda lista: sorted(lista)\n",
    "\n",
    "13. orden_por_longitud = lambda lista: sorted(lista, key=lambda x: len(x))\n",
    "\n",
    "14. incremento_10 = lambda lista: [x + 10 for x in lista]\n",
    "\n",
    "15. mayusculas = lambda lista: [palabra.upper() for palabra in lista]\n",
    "\n",
    "16. numeros_negativos = lambda lista: [x for x in lista if x < 0]\n",
    "\n",
    "17. comienza_con_A = lambda lista: [nombre for nombre in lista if nombre[0] == 'A']\n",
    "\n",
    "18. suma_cuadrados = lambda lista: sum(x ** 2 for x in lista)\n",
    "\n",
    "19. mas_de_una_vocal = lambda lista: [palabra for palabra in lista if sum(1 for letra in palabra if letra in 'AEIOUaeiou') > 1]\n",
    "\n",
    "20. orden_por_edad = lambda lista: sorted(lista, key=lambda estudiante: estudiante['edad'])"
   ]
  }
 ],
 "metadata": {
  "language_info": {
   "name": "python"
  }
 },
 "nbformat": 4,
 "nbformat_minor": 2
}
