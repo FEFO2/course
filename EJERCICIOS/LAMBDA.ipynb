{
 "cells": [
  {
   "cell_type": "markdown",
   "metadata": {},
   "source": [
    "EJERCICIOS DE FUNCIONES LAMBDA.\n",
    "\n",
    "RECUERDA: Las funciones lambda son formas de escribir funciones sin definirlas de la manera tradicional. Se pueden crear funciones simples en una línea de código.\n",
    "Para ello hay que asignarle a una variable la función, declarando los argumentos en ella.\n",
    "\n",
    "EJEMPLO:\n",
    "\n",
    "MANERA TRADICIONAL:\n",
    "\n",
    "def area_triangulo(base,altura): return (base*altura) / 2\n",
    "\n",
    "print(area_triangulo(3,6))\n",
    "\n",
    "MANERA LAMBDA:\n",
    "\n",
    "area_triangulo = Lambda base, altura: (base*altura) / 2\n",
    "\n",
    "print(area_triangulo(3,6))\n",
    "\n",
    "Para realizar los ejercicios: \n",
    "- Crea una entrada de código debajo de las consignas. \n",
    "- Asigna variables a todo aquello que se encuentre en la consinga (numeros para sumar, listas para contar, etc.)\n",
    "- Las soluciones se encuentran en la carpeta \"soluciones\".\n",
    "\n",
    "¡¡Buena suerte!!"
   ]
  },
  {
   "cell_type": "code",
   "execution_count": null,
   "metadata": {},
   "outputs": [],
   "source": [
    "# MIS VARIABLES\n",
    "\n",
    "a = 3 \n",
    "b = 5\n",
    "c = 7 \n",
    "\n",
    "lista1 = [1,2,3,4,5,6,7,8,9,10]\n",
    "lista2 = [11,12,13,14,15,16,17,18,19,20]\n",
    "lista3 = [5,10,15,20,25,30,35,40,45,50]"
   ]
  },
  {
   "cell_type": "markdown",
   "metadata": {},
   "source": [
    "Ejercicio 1: Crea una función lambda que sume dos números."
   ]
  },
  {
   "cell_type": "code",
   "execution_count": 23,
   "metadata": {},
   "outputs": [
    {
     "name": "stdout",
     "output_type": "stream",
     "text": [
      "8\n"
     ]
    }
   ],
   "source": [
    "suma = lambda x, y: x + y\n",
    "print(suma(x,y))\n"
   ]
  },
  {
   "cell_type": "markdown",
   "metadata": {},
   "source": [
    "Ejercicio 2: Escribe una función lambda que multiplique dos números."
   ]
  },
  {
   "cell_type": "code",
   "execution_count": 25,
   "metadata": {},
   "outputs": [
    {
     "name": "stdout",
     "output_type": "stream",
     "text": [
      "15\n"
     ]
    }
   ],
   "source": [
    "multip = lambda x, y: x * y\n",
    "print(multip(x,y))"
   ]
  },
  {
   "cell_type": "markdown",
   "metadata": {},
   "source": [
    "Ejercicio 3: Define una función lambda que eleve un número al cuadrado."
   ]
  },
  {
   "cell_type": "markdown",
   "metadata": {},
   "source": [
    "Ejercicio 4: Crea una función lambda que devuelva el valor absoluto de un número."
   ]
  },
  {
   "cell_type": "markdown",
   "metadata": {},
   "source": [
    "Ejercicio 5: Escribe una función lambda que verifique si un número es par."
   ]
  },
  {
   "cell_type": "markdown",
   "metadata": {},
   "source": [
    "Ejercicio 6: Define una función lambda que verifique si una cadena tiene más de 5 caracteres."
   ]
  },
  {
   "cell_type": "markdown",
   "metadata": {},
   "source": [
    "Ejercicio 7: Crea una función lambda que tome una lista de números y devuelva la suma de todos los elementos."
   ]
  },
  {
   "cell_type": "markdown",
   "metadata": {},
   "source": [
    "Ejercicio 8: Escribe una función lambda que tome una lista de palabras y devuelva una lista con la longitud de cada palabra."
   ]
  },
  {
   "cell_type": "markdown",
   "metadata": {},
   "source": [
    "Ejercicio 9: Define una función lambda que tome una lista de números y devuelva una lista con los números pares."
   ]
  },
  {
   "cell_type": "markdown",
   "metadata": {},
   "source": [
    "Ejercicio 10: Crea una función lambda que tome una lista de cadenas y devuelva una lista con las cadenas que contienen la letra 'a'."
   ]
  },
  {
   "cell_type": "markdown",
   "metadata": {},
   "source": [
    "Ejercicio 11: Escribe una función lambda que tome una lista de diccionarios y devuelva una lista con los nombres de las personas en esos diccionarios."
   ]
  },
  {
   "cell_type": "markdown",
   "metadata": {},
   "source": [
    "Ejercicio 12: Define una función lambda que ordene una lista de números en orden ascendente."
   ]
  },
  {
   "cell_type": "markdown",
   "metadata": {},
   "source": [
    "Ejercicio 13: Crea una función lambda que ordene una lista de cadenas por su longitud, de la más corta a la más larga."
   ]
  },
  {
   "cell_type": "markdown",
   "metadata": {},
   "source": [
    "Ejercicio 14: Escribe una función lambda que tome una lista de números y devuelva la lista con cada número incrementado en 10."
   ]
  },
  {
   "cell_type": "markdown",
   "metadata": {},
   "source": [
    "Ejercicio 15: Define una función lambda que tome una lista de palabras y devuelva la lista con todas las palabras en mayúsculas."
   ]
  },
  {
   "cell_type": "markdown",
   "metadata": {},
   "source": [
    "Ejercicio 16: Crea una función lambda que tome una lista de números y devuelva la lista con los números negativos."
   ]
  },
  {
   "cell_type": "markdown",
   "metadata": {},
   "source": [
    "Ejercicio 17: Escribe una función lambda que tome una lista de nombres y devuelva una lista con los nombres que comienzan con la letra 'A'."
   ]
  },
  {
   "cell_type": "markdown",
   "metadata": {},
   "source": [
    "Ejercicio 18: Define una función lambda que tome una lista de números y devuelva la suma de los cuadrados de los números."
   ]
  },
  {
   "cell_type": "markdown",
   "metadata": {},
   "source": [
    "Ejercicio 19: Crea una función lambda que tome una lista de palabras y devuelva una lista con las palabras que contienen más de una vocal."
   ]
  },
  {
   "cell_type": "markdown",
   "metadata": {},
   "source": [
    "Ejercicio 20: Escribe una función lambda que tome una lista de diccionarios de estudiantes y devuelva la lista ordenada por la edad de los estudiantes, de menor a mayor."
   ]
  },
  {
   "cell_type": "markdown",
   "metadata": {},
   "source": [
    "Ejercicio :"
   ]
  }
 ],
 "metadata": {
  "kernelspec": {
   "display_name": "Python 3",
   "language": "python",
   "name": "python3"
  },
  "language_info": {
   "codemirror_mode": {
    "name": "ipython",
    "version": 3
   },
   "file_extension": ".py",
   "mimetype": "text/x-python",
   "name": "python",
   "nbconvert_exporter": "python",
   "pygments_lexer": "ipython3",
   "version": "3.10.8"
  }
 },
 "nbformat": 4,
 "nbformat_minor": 2
}
