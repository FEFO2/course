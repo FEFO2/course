{
 "cells": [
  {
   "cell_type": "markdown",
   "metadata": {},
   "source": [
    "EJERCICIOS DE FUNCIONES LAMBDA.\n",
    "\n",
    "RECUERDA: Las funciones lambda son formas de escribir funciones sin definirlas de la manera tradicional. Se pueden crear funciones simples en una línea de código.\n",
    "Para ello hay que asignarle a una variable la función, declarando los argumentos en ella.\n",
    "\n",
    "EJEMPLO:\n",
    "\n",
    "MANERA TRADICIONAL:\n",
    "\n",
    "def area_triangulo(base,altura): return (base*altura) / 2\n",
    "\n",
    "print(area_triangulo(3,6))\n",
    "\n",
    "MANERA LAMBDA:\n",
    "\n",
    "area_triangulo = Lambda base, altura: (base*altura) / 2\n",
    "\n",
    "print(area_triangulo(3,6))\n",
    "\n",
    "Para realizar los ejercicios: \n",
    "- Crea una entrada de código debajo de las consignas. \n",
    "- Asigna variables a todo aquello que se encuentre en la consinga (numeros para sumar, listas para contar, etc.)\n",
    "- Las soluciones se encuentran en la carpeta \"soluciones\".\n",
    "\n",
    "¡¡Buena suerte!!"
   ]
  },
  {
   "cell_type": "markdown",
   "metadata": {},
   "source": [
    "Ejercicio 1: Crea una función lambda que sume dos números."
   ]
  },
  {
   "cell_type": "code",
   "execution_count": 9,
   "metadata": {},
   "outputs": [
    {
     "name": "stdout",
     "output_type": "stream",
     "text": [
      "8\n"
     ]
    }
   ],
   "source": [
    "# MIS VARIABLES\n",
    "\n",
    "a = 3 \n",
    "b = 5\n",
    "c = 7 \n",
    "\n",
    "lista1 = [1,2,3,4,5,6,7,8,9,10]\n",
    "lista2 = [11,12,13,14,15,16,17,18,19,20]\n",
    "lista3 = [5,10,15,20,25,30,35,40,45,50]\n",
    "lista4 = [2,4,6,8,10]\n",
    "\n",
    "suma = lambda x, y: x + y\n",
    "suma(a,b)\n"
   ]
  },
  {
   "cell_type": "markdown",
   "metadata": {},
   "source": [
    "Ejercicio 2: Escribe una función lambda que multiplique dos números."
   ]
  },
  {
   "cell_type": "code",
   "execution_count": 5,
   "metadata": {},
   "outputs": [
    {
     "name": "stdout",
     "output_type": "stream",
     "text": [
      "15\n"
     ]
    }
   ],
   "source": [
    "multip = lambda x, y: x * y\n",
    "multip(a,b)"
   ]
  },
  {
   "cell_type": "markdown",
   "metadata": {},
   "source": [
    "Ejercicio 3: Define una función lambda que eleve un número al cuadrado."
   ]
  },
  {
   "cell_type": "code",
   "execution_count": 6,
   "metadata": {},
   "outputs": [
    {
     "name": "stdout",
     "output_type": "stream",
     "text": [
      "9\n"
     ]
    }
   ],
   "source": [
    "expon = lambda x: x**2\n",
    "expon(a)"
   ]
  },
  {
   "cell_type": "markdown",
   "metadata": {},
   "source": [
    "Ejercicio 4: Crea una función lambda que devuelva el valor absoluto de un número."
   ]
  },
  {
   "cell_type": "code",
   "execution_count": 7,
   "metadata": {},
   "outputs": [
    {
     "name": "stdout",
     "output_type": "stream",
     "text": [
      "3\n"
     ]
    }
   ],
   "source": [
    "absoluto = lambda x: abs(x)\n",
    "absoluto(a)"
   ]
  },
  {
   "cell_type": "markdown",
   "metadata": {},
   "source": [
    "Ejercicio 5: Escribe una función lambda que verifique si un número es par."
   ]
  },
  {
   "cell_type": "code",
   "execution_count": 8,
   "metadata": {},
   "outputs": [
    {
     "name": "stdout",
     "output_type": "stream",
     "text": [
      "False\n"
     ]
    }
   ],
   "source": [
    "even = lambda x: x % 2 == 0\n",
    "even(3)"
   ]
  },
  {
   "cell_type": "markdown",
   "metadata": {},
   "source": [
    "Ejercicio 6: Define una función lambda que verifique si una cadena tiene más de 5 caracteres."
   ]
  },
  {
   "cell_type": "code",
   "execution_count": 11,
   "metadata": {},
   "outputs": [
    {
     "name": "stdout",
     "output_type": "stream",
     "text": [
      "False\n"
     ]
    }
   ],
   "source": [
    "cadena5 = lambda x: len(x) == 5\n",
    "cadena5(lista1)"
   ]
  },
  {
   "cell_type": "markdown",
   "metadata": {},
   "source": [
    "Ejercicio 7: Crea una función lambda que tome una lista de números y devuelva la suma de todos los elementos."
   ]
  },
  {
   "cell_type": "code",
   "execution_count": 18,
   "metadata": {},
   "outputs": [
    {
     "name": "stdout",
     "output_type": "stream",
     "text": [
      "55\n"
     ]
    }
   ],
   "source": [
    "suma_lista = lambda x: sum(x)\n",
    "suma_cadena(lista1)"
   ]
  },
  {
   "cell_type": "markdown",
   "metadata": {},
   "source": [
    "Ejercicio 8: Escribe una función lambda que tome una lista de palabras y devuelva una lista con la longitud de cada palabra."
   ]
  },
  {
   "cell_type": "code",
   "execution_count": 21,
   "metadata": {},
   "outputs": [
    {
     "name": "stdout",
     "output_type": "stream",
     "text": [
      "[5, 4, 7, 6]\n"
     ]
    }
   ],
   "source": [
    "lista_palabras = [\"perro\",\"gato\",\"caballo\",\"conejo\"]\n",
    "longitud_palabras = lambda lista: [len(palabras) for palabras in lista]\n",
    "longitud_palabras(lista_palabras)"
   ]
  },
  {
   "cell_type": "markdown",
   "metadata": {},
   "source": [
    "Ejercicio 9: Define una función lambda que tome una lista de números y devuelva una lista con los números pares."
   ]
  },
  {
   "cell_type": "code",
   "execution_count": 22,
   "metadata": {},
   "outputs": [
    {
     "data": {
      "text/plain": [
       "[2, 4, 6, 8, 10]"
      ]
     },
     "execution_count": 22,
     "metadata": {},
     "output_type": "execute_result"
    }
   ],
   "source": [
    "lista_pares = lambda lista: [x for x in lista if x % 2 == 0]\n",
    "lista_pares(lista1)"
   ]
  },
  {
   "cell_type": "markdown",
   "metadata": {},
   "source": [
    "Ejercicio 10: Crea una función lambda que tome una lista de cadenas y devuelva una lista con las cadenas que contienen la letra 'a'."
   ]
  },
  {
   "cell_type": "code",
   "execution_count": 25,
   "metadata": {},
   "outputs": [
    {
     "data": {
      "text/plain": [
       "['gato', 'caballo']"
      ]
     },
     "execution_count": 25,
     "metadata": {},
     "output_type": "execute_result"
    }
   ],
   "source": [
    "lista_a = lambda lista: [palabra for palabra in lista if 'a' in palabra]\n",
    "lista_a(lista_palabras)"
   ]
  },
  {
   "cell_type": "markdown",
   "metadata": {},
   "source": [
    "Ejercicio 11: Escribe una función lambda que tome una lista de diccionarios y devuelva una lista con los nombres de las personas en esos diccionarios."
   ]
  },
  {
   "cell_type": "markdown",
   "metadata": {},
   "source": [
    "Ejercicio 12: Define una función lambda que ordene una lista de números en orden ascendente."
   ]
  },
  {
   "cell_type": "markdown",
   "metadata": {},
   "source": [
    "Ejercicio 13: Crea una función lambda que ordene una lista de cadenas por su longitud, de la más corta a la más larga."
   ]
  },
  {
   "cell_type": "markdown",
   "metadata": {},
   "source": [
    "Ejercicio 14: Escribe una función lambda que tome una lista de números y devuelva la lista con cada número incrementado en 10."
   ]
  },
  {
   "cell_type": "markdown",
   "metadata": {},
   "source": [
    "Ejercicio 15: Define una función lambda que tome una lista de palabras y devuelva la lista con todas las palabras en mayúsculas."
   ]
  },
  {
   "cell_type": "markdown",
   "metadata": {},
   "source": [
    "Ejercicio 16: Crea una función lambda que tome una lista de números y devuelva la lista con los números negativos."
   ]
  },
  {
   "cell_type": "markdown",
   "metadata": {},
   "source": [
    "Ejercicio 17: Escribe una función lambda que tome una lista de nombres y devuelva una lista con los nombres que comienzan con la letra 'A'."
   ]
  },
  {
   "cell_type": "markdown",
   "metadata": {},
   "source": [
    "Ejercicio 18: Define una función lambda que tome una lista de números y devuelva la suma de los cuadrados de los números."
   ]
  },
  {
   "cell_type": "markdown",
   "metadata": {},
   "source": [
    "Ejercicio 19: Crea una función lambda que tome una lista de palabras y devuelva una lista con las palabras que contienen más de una vocal."
   ]
  },
  {
   "cell_type": "markdown",
   "metadata": {},
   "source": [
    "Ejercicio 20: Escribe una función lambda que tome una lista de diccionarios de estudiantes y devuelva la lista ordenada por la edad de los estudiantes, de menor a mayor."
   ]
  },
  {
   "cell_type": "markdown",
   "metadata": {},
   "source": [
    "Ejercicio 21: Crea una función lambda que tome una lista de números y devuelva la suma de los números en notación romana."
   ]
  },
  {
   "cell_type": "markdown",
   "metadata": {},
   "source": [
    "Ejercicio 22: Define una función lambda que tome una lista de números y devuelva la lista con los números que son múltiplos de todos los números en la lista."
   ]
  },
  {
   "cell_type": "markdown",
   "metadata": {},
   "source": [
    "Ejercicio 23: Crea una función lambda que tome una lista de palabras y devuelva una lista con las palabras que son anagramas de otra palabra en la lista."
   ]
  },
  {
   "cell_type": "markdown",
   "metadata": {},
   "source": [
    "Ejercicio 24: Escribe una función lambda que tome una lista de números y devuelva la suma de los números en notación binaria."
   ]
  },
  {
   "cell_type": "markdown",
   "metadata": {},
   "source": [
    "Ejercicio 25: Define una función lambda que tome una lista de números y devuelva la lista con los números que son números de Fibonacci."
   ]
  },
  {
   "cell_type": "markdown",
   "metadata": {},
   "source": [
    "Ejercicio 26: Crea una función lambda que tome una lista de cadenas y devuelva una lista con las cadenas que son pangramas (contienen todas las letras del alfabeto)."
   ]
  },
  {
   "cell_type": "markdown",
   "metadata": {},
   "source": [
    "Ejercicio 27: Escribe una función lambda que tome una lista de números y devuelva la suma de los números en notación hexadecimal."
   ]
  },
  {
   "cell_type": "markdown",
   "metadata": {},
   "source": [
    "Ejercicio 28: Define una función lambda que tome una lista de números y devuelva la lista con los números que son primos."
   ]
  },
  {
   "cell_type": "markdown",
   "metadata": {},
   "source": [
    "Ejercicio 29: Crea una función lambda que tome una lista de palabras y devuelva una lista con las palabras que son anagramas de una palabra dada."
   ]
  },
  {
   "cell_type": "markdown",
   "metadata": {},
   "source": [
    "Ejercicio 30: Define una función lambda que tome una lista de números y devuelva la lista con los números que son cuadrados mágicos (la suma de todas las filas, columnas y diagonales es la misma)."
   ]
  },
  {
   "cell_type": "markdown",
   "metadata": {},
   "source": [
    "Ejercicio 31: Crea una función lambda que tome una lista de cadenas y devuelva una lista con las cadenas que contienen al menos dos vocales diferentes."
   ]
  },
  {
   "cell_type": "markdown",
   "metadata": {},
   "source": [
    "Ejercicio 32: Define una función lambda que tome una lista de números y devuelva la suma de los números impares."
   ]
  },
  {
   "cell_type": "markdown",
   "metadata": {},
   "source": [
    "Ejercicio 33: Crea una función lambda que tome una lista de números y devuelva la lista con los números que son palíndromos (se leen igual de adelante hacia atrás)."
   ]
  },
  {
   "cell_type": "markdown",
   "metadata": {},
   "source": [
    "Ejercicio 34: Escribe una función lambda que tome una lista de cadenas y devuelva una lista con las cadenas que contienen solo letras minúsculas."
   ]
  },
  {
   "cell_type": "markdown",
   "metadata": {},
   "source": [
    "Ejercicio 35: Define una función lambda que tome una lista de números y devuelva la lista con los números que son cuadrados perfectos."
   ]
  },
  {
   "cell_type": "markdown",
   "metadata": {},
   "source": [
    "Ejercicio 36: Crea una función lambda que tome una lista de diccionarios con nombres y edades y devuelva el nombre del persona más joven."
   ]
  },
  {
   "cell_type": "markdown",
   "metadata": {},
   "source": [
    "Ejercicio 37: Define una función lambda que tome una lista de palabras y devuelva una lista con las palabras que contienen solo números."
   ]
  },
  {
   "cell_type": "markdown",
   "metadata": {},
   "source": [
    "Ejercicio 38: Escribe una función lambda que tome una lista de números y devuelva la suma de los números en notación binaria."
   ]
  },
  {
   "cell_type": "markdown",
   "metadata": {},
   "source": [
    "Ejercicio 39: Crea una función lambda que tome una lista de cadenas y devuelva una lista con las cadenas que contienen solo letras mayúsculas."
   ]
  },
  {
   "cell_type": "markdown",
   "metadata": {},
   "source": [
    "Ejercicio 40: Define una función lambda que tome una lista de números y devuelva la suma de los números en notación romana."
   ]
  },
  {
   "cell_type": "markdown",
   "metadata": {},
   "source": [
    "Ejercicio 41: Crea una función lambda que tome una lista de palabras y devuelva una lista con las palabras que son anagramas de una palabra dada."
   ]
  },
  {
   "cell_type": "markdown",
   "metadata": {},
   "source": [
    "Ejercicio 42: Escribe una función lambda que tome una lista de números y devuelva la lista con los números redondeados al entero más cercano."
   ]
  },
  {
   "cell_type": "markdown",
   "metadata": {},
   "source": [
    "Ejercicio 43: Define una función lambda que tome una lista de números y devuelva el producto de todos los números en la lista."
   ]
  },
  {
   "cell_type": "markdown",
   "metadata": {},
   "source": [
    "Ejercicio 44: Crea una función lambda que tome una lista de cadenas y devuelva una lista con las cadenas que contienen solo dígitos numéricos."
   ]
  },
  {
   "cell_type": "markdown",
   "metadata": {},
   "source": [
    "Ejercicio 45: Escribe una función lambda que tome una lista de números y devuelva la desviación estándar de los números."
   ]
  },
  {
   "cell_type": "markdown",
   "metadata": {},
   "source": [
    "Ejercicio 46: Define una función lambda que tome una lista de diccionarios de estudiantes con nombre, edad y calificaciones, y devuelva el nombre del estudiante con el promedio más alto."
   ]
  },
  {
   "cell_type": "markdown",
   "metadata": {},
   "source": [
    "Ejercicio 47: Crea una función lambda que tome una lista de números y devuelva la suma de los números en notación hexadecimal."
   ]
  },
  {
   "cell_type": "markdown",
   "metadata": {},
   "source": [
    "Ejercicio 48: Define una función lambda que tome una lista de números y devuelva la lista con los números que son primos."
   ]
  },
  {
   "cell_type": "markdown",
   "metadata": {},
   "source": [
    "Ejercicio 49: Escribe una función lambda que tome una lista de palabras y devuelva una lista con las palabras que son anagramas de una palabra dada."
   ]
  },
  {
   "cell_type": "markdown",
   "metadata": {},
   "source": [
    "Ejercicio 50: Define una función lambda que tome una lista de números y devuelva la lista con los números que son cuadrados mágicos (la suma de todas las filas, columnas y diagonales es la misma)."
   ]
  }
 ],
 "metadata": {
  "kernelspec": {
   "display_name": "Python 3",
   "language": "python",
   "name": "python3"
  },
  "language_info": {
   "codemirror_mode": {
    "name": "ipython",
    "version": 3
   },
   "file_extension": ".py",
   "mimetype": "text/x-python",
   "name": "python",
   "nbconvert_exporter": "python",
   "pygments_lexer": "ipython3",
   "version": "3.10.8"
  }
 },
 "nbformat": 4,
 "nbformat_minor": 2
}
